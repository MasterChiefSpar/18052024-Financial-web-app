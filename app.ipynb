{
 "cells": [
  {
   "cell_type": "code",
   "execution_count": 1,
   "id": "032bbd27",
   "metadata": {},
   "outputs": [
    {
     "name": "stdout",
     "output_type": "stream",
     "text": [
      " * Serving Flask app '__main__'\n",
      " * Debug mode: off\n"
     ]
    },
    {
     "name": "stderr",
     "output_type": "stream",
     "text": [
      "WARNING: This is a development server. Do not use it in a production deployment. Use a production WSGI server instead.\n",
      " * Running on http://127.0.0.1:5000\n",
      "Press CTRL+C to quit\n"
     ]
    }
   ],
   "source": [
    "from flask import Flask, render_template, request\n",
    "\n",
    "app = Flask(__name__)\n",
    "\n",
    "@app.route(\"/\",methods=[\"GET\", \"POST\"])\n",
    "def index():\n",
    "    return(render_template(\"index.html\"))\n",
    "\n",
    "@app.route(\"/main\",methods=[\"GET\", \"POST\"])\n",
    "def main():\n",
    "    global flag\n",
    "    if flag == 1:\n",
    "        name = request.form.get(\"q\")\n",
    "        flag = 0\n",
    "    return(render_template(\"main.html\",r=name))\n",
    "\n",
    "@app.route(\"/prediction\",methods=[\"GET\", \"POST\"])\n",
    "def prediction():\n",
    "    return(render_template(\"prediction.html\"))\n",
    "\n",
    "@app.route(\"/dbs_price\",methods=[\"GET\", \"POST\"])\n",
    "def dbs_price():\n",
    "    q = float(request.form.get(\"q\"))\n",
    "    return(render_template(\"dbs_price.html\",r=(q*-50.6)+90.2))\n",
    "\n",
    "@app.route(\"/end\",methods=[\"GET\", \"POST\"])\n",
    "def end():\n",
    "    global flag\n",
    "    flag = 1\n",
    "    return(render_template(\"index.html\"))\n",
    "\n",
    "if __name__ == \"__main__\":\n",
    "    app.run()"
   ]
  },
  {
   "cell_type": "code",
   "execution_count": null,
   "id": "584998f8",
   "metadata": {},
   "outputs": [],
   "source": []
  },
  {
   "cell_type": "code",
   "execution_count": null,
   "id": "7062d98d",
   "metadata": {},
   "outputs": [],
   "source": []
  }
 ],
 "metadata": {
  "kernelspec": {
   "display_name": "Python 3 (ipykernel)",
   "language": "python",
   "name": "python3"
  },
  "language_info": {
   "codemirror_mode": {
    "name": "ipython",
    "version": 3
   },
   "file_extension": ".py",
   "mimetype": "text/x-python",
   "name": "python",
   "nbconvert_exporter": "python",
   "pygments_lexer": "ipython3",
   "version": "3.11.7"
  }
 },
 "nbformat": 4,
 "nbformat_minor": 5
}
